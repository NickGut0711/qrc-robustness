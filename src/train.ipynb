{
 "cells": [
  {
   "cell_type": "code",
   "execution_count": 5,
   "id": "460ee8f2",
   "metadata": {},
   "outputs": [],
   "source": [
    "import numpy as np\n",
    "import matplotlib.pyplot as plt\n",
    "from tfim import TFIMReservoir\n",
    "from reservoir_graph_generation import initialize_graph, expand_graph, get_adjacency_matrix"
   ]
  },
  {
   "cell_type": "code",
   "execution_count": 22,
   "id": "1e468477",
   "metadata": {},
   "outputs": [
    {
     "name": "stdout",
     "output_type": "stream",
     "text": [
      "[0] nodes=3 edges=2 names=['I0', 'I1', 'O1']\n",
      "[1] nodes=5 edges=5 names=['I0', 'I1', 'O1_1_1', 'O1_1_2', 'O1_1_3']\n"
     ]
    }
   ],
   "source": [
    "N_in = 2\n",
    "\n",
    "# Graph A: no expansion\n",
    "G0, out0 = initialize_graph(N_in)\n",
    "A0, nodes0 = get_adjacency_matrix(G0)  # A0: (N0 x N0)\n",
    "\n",
    "# Graph B: one expansion step (mutates a fresh graph)\n",
    "G1, out1 = initialize_graph(N_in)  # start fresh\n",
    "G1 = expand_graph(G1, out1, steps=1)\n",
    "A1, nodes1 = get_adjacency_matrix(G1)\n",
    "\n",
    "adjacency_matrices = [A0.astype(float), A1.astype(float)]\n",
    "nodes_lists        = [nodes0,           nodes1]\n",
    "\n",
    "for k, (A, nodes) in enumerate(zip(adjacency_matrices, nodes_lists)):\n",
    "    print(f\"[{k}] nodes={len(nodes)} edges={int(A.sum()/2)} names={nodes}\")"
   ]
  },
  {
   "cell_type": "code",
   "execution_count": 24,
   "id": "87da8973",
   "metadata": {},
   "outputs": [
    {
     "name": "stdout",
     "output_type": "stream",
     "text": [
      "Built 2 reservoirs.\n",
      "[0] N=3 input_nodes=[0, 1]\n",
      "[1] N=5 input_nodes=[0, 1]\n"
     ]
    }
   ],
   "source": [
    "def indices_of_inputs(nodes):\n",
    "    return [i for i, name in enumerate(nodes) if str(name).startswith(\"I\")]\n",
    "\n",
    "reservoirs = []\n",
    "params = dict(J=0.8, h=1.0, dt=0.2, g_in=0.4, M=1)\n",
    "\n",
    "for A, nodes in zip(adjacency_matrices, nodes_lists):\n",
    "    N = A.shape[0]\n",
    "    input_nodes = indices_of_inputs(nodes)\n",
    "    if not input_nodes:\n",
    "        raise RuntimeError(\"Did not find any nodes starting with 'I' in this graph.\")\n",
    "    # W_in: (M,N) zeros except on input columns\n",
    "    W_in = np.zeros((params[\"M\"], N), dtype=float)\n",
    "    W_in[:, input_nodes] = params[\"g_in\"]\n",
    "    res = TFIMReservoir.from_adjacency(\n",
    "        adj=A, J=params[\"J\"], h=params[\"h\"],\n",
    "        W_in=W_in, input_nodes=input_nodes, dt=params[\"dt\"], c_ops=None\n",
    "    )\n",
    "    reservoirs.append(dict(res=res, nodes=nodes, input_nodes=input_nodes))\n",
    "\n",
    "print(f\"Built {len(reservoirs)} reservoirs.\")\n",
    "for k, r in enumerate(reservoirs):\n",
    "    print(f\"[{k}] N={r['res'].N} input_nodes={r['input_nodes']}\")"
   ]
  },
  {
   "cell_type": "code",
   "execution_count": 25,
   "id": "bf212880",
   "metadata": {},
   "outputs": [
    {
     "name": "stdout",
     "output_type": "stream",
     "text": [
      "Built reservoir: N=3, inputs=[0, 1]\n",
      "Built reservoir: N=5, inputs=[0, 1]\n"
     ]
    }
   ],
   "source": [
    "J, h, dt = 0.8, 1.0, 0.2\n",
    "M, g_in = 1, 0.4\n",
    "\n",
    "reservoirs = []\n",
    "for A, nodes in zip(adjacency_matrices, nodes_lists):\n",
    "    N = A.shape[0]\n",
    "    input_nodes = [i for i, name in enumerate(nodes) if str(name).startswith(\"I\")]\n",
    "    W_in = np.zeros((M, N))\n",
    "    W_in[:, input_nodes] = g_in\n",
    "    res = TFIMReservoir.from_adjacency(A, J=J, h=h, W_in=W_in, input_nodes=input_nodes, dt=dt)\n",
    "    reservoirs.append(res)\n",
    "    print(f\"Built reservoir: N={N}, inputs={input_nodes}\")\n"
   ]
  },
  {
   "cell_type": "code",
   "execution_count": null,
   "id": "2a6e1d6d",
   "metadata": {},
   "outputs": [],
   "source": [
    "import numpy as np\n",
    "from qutip import Qobj, basis, tensor, qeye, sigmax, sigmay, sigmaz\n",
    "from qutip.qip.operations import cnot\n",
    "from tfim import TFIMReservoir  # your class\n",
    "\n",
    "# 2-qubit Pauli tensors in a fixed order; we will drop I⊗I to get 15 coords\n",
    "I, X, Y, Z = qeye(2), sigmax(), sigmay(), sigmaz()\n",
    "pauli2_all = [tensor(p,q) for p in [I,X,Y,Z] for q in [I,X,Y,Z]]\n",
    "pauli2_all = pauli2_all[1:] # Dropping the first element since it's the identity\n",
    "# pauli2_15  = [P for P in pauli2_all if not P.isidentity]"
   ]
  },
  {
   "cell_type": "code",
   "execution_count": 33,
   "id": "bed461e1",
   "metadata": {},
   "outputs": [],
   "source": [
    "def rand_states_2q(n, seed=0):\n",
    "    rng = np.random.default_rng(seed)\n",
    "    vecs = []\n",
    "    for _ in range(n):\n",
    "        z = rng.normal(size=4) + 1j*rng.normal(size=4)\n",
    "        z /= np.linalg.norm(z)\n",
    "        vecs.append(Qobj(z, dims=[[2,2],[1,1]]))\n",
    "    return vecs\n",
    "\n",
    "def pauli15_expectations(psi):\n",
    "    return np.array([ (psi.dag()*P*psi).full().item().real for P in pauli2_all ])\n",
    "\n",
    "def make_dataset_cnot(n_train=1000, n_test=200, seed=1):\n",
    "    train = rand_states_2q(n_train, seed)\n",
    "    test  = rand_states_2q(n_test,  seed+1)\n",
    "    def pack(psis):\n",
    "        C_in  = np.stack([pauli15_expectations(psi) for psi in psis], axis=0)         # (N,15)\n",
    "        C_out = np.stack([pauli15_expectations(cnot()*psi) for psi in psis], axis=0)  # (N,15)\n",
    "        return C_in, C_out\n",
    "    return pack(train) + pack(test)"
   ]
  },
  {
   "cell_type": "code",
   "execution_count": 34,
   "id": "0afd9665",
   "metadata": {},
   "outputs": [],
   "source": [
    "# Pick which graph to use\n",
    "A = adjacency_matrices[1]  # e.g., index 1 = after one expansion\n",
    "\n",
    "# Drive all qubits for simplicity\n",
    "N = A.shape[0]\n",
    "M = 15          # 15 input channels for the 15 Pauli-string expectations\n",
    "g_in = 0.4      # input→Z coupling scale\n",
    "J, h, dt = 0.8, 1.0, 0.2\n",
    "\n",
    "W_in = np.zeros((M, N)); W_in[:, :] = g_in  # drive all sites equally\n",
    "res  = TFIMReservoir.from_adjacency(adj=A, J=J, h=h, W_in=W_in,\n",
    "                                    input_nodes=list(range(N)), dt=dt, c_ops=None)"
   ]
  },
  {
   "cell_type": "code",
   "execution_count": null,
   "id": "b43d88e3",
   "metadata": {},
   "outputs": [
    {
     "name": "stdout",
     "output_type": "stream",
     "text": [
      "Generating training and test data...\n",
      "Train samples: 1000, Test samples: 200\n",
      "\n",
      "Encoding training inputs for 60 steps...\n"
     ]
    },
    {
     "ename": "KeyboardInterrupt",
     "evalue": "",
     "output_type": "error",
     "traceback": [
      "\u001b[0;31m---------------------------------------------------------------------------\u001b[0m",
      "\u001b[0;31mKeyboardInterrupt\u001b[0m                         Traceback (most recent call last)",
      "Cell \u001b[0;32mIn[36], line 24\u001b[0m\n\u001b[1;32m     22\u001b[0m T_steps \u001b[38;5;241m=\u001b[39m \u001b[38;5;241m60\u001b[39m\n\u001b[1;32m     23\u001b[0m \u001b[38;5;28mprint\u001b[39m(\u001b[38;5;124mf\u001b[39m\u001b[38;5;124m\"\u001b[39m\u001b[38;5;130;01m\\n\u001b[39;00m\u001b[38;5;124mEncoding training inputs for \u001b[39m\u001b[38;5;132;01m{\u001b[39;00mT_steps\u001b[38;5;132;01m}\u001b[39;00m\u001b[38;5;124m steps...\u001b[39m\u001b[38;5;124m\"\u001b[39m)\n\u001b[0;32m---> 24\u001b[0m Xtr \u001b[38;5;241m=\u001b[39m \u001b[43mrun_encode_constant\u001b[49m\u001b[43m(\u001b[49m\u001b[43mres\u001b[49m\u001b[43m,\u001b[49m\u001b[43m \u001b[49m\u001b[43mCtr_in\u001b[49m\u001b[43m,\u001b[49m\u001b[43m \u001b[49m\u001b[43mT\u001b[49m\u001b[38;5;241;43m=\u001b[39;49m\u001b[43mT_steps\u001b[49m\u001b[43m)\u001b[49m   \u001b[38;5;66;03m# (Ntr, Nq)\u001b[39;00m\n\u001b[1;32m     25\u001b[0m \u001b[38;5;28mprint\u001b[39m(\u001b[38;5;124m\"\u001b[39m\u001b[38;5;124m  Done. Training features shape:\u001b[39m\u001b[38;5;124m\"\u001b[39m, Xtr\u001b[38;5;241m.\u001b[39mshape)\n\u001b[1;32m     27\u001b[0m \u001b[38;5;28mprint\u001b[39m(\u001b[38;5;124mf\u001b[39m\u001b[38;5;124m\"\u001b[39m\u001b[38;5;124mEncoding test inputs for \u001b[39m\u001b[38;5;132;01m{\u001b[39;00mT_steps\u001b[38;5;132;01m}\u001b[39;00m\u001b[38;5;124m steps...\u001b[39m\u001b[38;5;124m\"\u001b[39m)\n",
      "Cell \u001b[0;32mIn[36], line 12\u001b[0m, in \u001b[0;36mrun_encode_constant\u001b[0;34m(res, U_in, T)\u001b[0m\n\u001b[1;32m     10\u001b[0m \u001b[38;5;28;01mfor\u001b[39;00m u \u001b[38;5;129;01min\u001b[39;00m U_in:\n\u001b[1;32m     11\u001b[0m     U_seq \u001b[38;5;241m=\u001b[39m np\u001b[38;5;241m.\u001b[39mtile(u, (T,\u001b[38;5;241m1\u001b[39m))\n\u001b[0;32m---> 12\u001b[0m     _, Phi \u001b[38;5;241m=\u001b[39m \u001b[43mres\u001b[49m\u001b[38;5;241;43m.\u001b[39;49m\u001b[43mevolve\u001b[49m\u001b[43m(\u001b[49m\u001b[43mU_seq\u001b[49m\u001b[43m,\u001b[49m\u001b[43m \u001b[49m\u001b[43mcollect_features\u001b[49m\u001b[38;5;241;43m=\u001b[39;49m\u001b[38;5;28;43;01mTrue\u001b[39;49;00m\u001b[43m)\u001b[49m\n\u001b[1;32m     13\u001b[0m     X\u001b[38;5;241m.\u001b[39mappend(Phi[\u001b[38;5;241m-\u001b[39m\u001b[38;5;241m1\u001b[39m])  \u001b[38;5;66;03m# last-time features (N,)\u001b[39;00m\n\u001b[1;32m     14\u001b[0m \u001b[38;5;28;01mreturn\u001b[39;00m np\u001b[38;5;241m.\u001b[39mstack(X, axis\u001b[38;5;241m=\u001b[39m\u001b[38;5;241m0\u001b[39m)\n",
      "File \u001b[0;32m~/postbacc/research/quantum-perceptron-robustness/code/qrc-robustness/src/tfim.py:134\u001b[0m, in \u001b[0;36mTFIMReservoir.evolve\u001b[0;34m(self, U_seq, state0, collect_features)\u001b[0m\n\u001b[1;32m    132\u001b[0m Phi \u001b[38;5;241m=\u001b[39m np\u001b[38;5;241m.\u001b[39mzeros((T, \u001b[38;5;28mself\u001b[39m\u001b[38;5;241m.\u001b[39mN), dtype\u001b[38;5;241m=\u001b[39m\u001b[38;5;28mfloat\u001b[39m) \u001b[38;5;28;01mif\u001b[39;00m collect_features \u001b[38;5;28;01melse\u001b[39;00m \u001b[38;5;28;01mNone\u001b[39;00m\n\u001b[1;32m    133\u001b[0m \u001b[38;5;28;01mfor\u001b[39;00m t \u001b[38;5;129;01min\u001b[39;00m \u001b[38;5;28mrange\u001b[39m(T):\n\u001b[0;32m--> 134\u001b[0m     st \u001b[38;5;241m=\u001b[39m \u001b[38;5;28;43mself\u001b[39;49m\u001b[38;5;241;43m.\u001b[39;49m\u001b[43mstep\u001b[49m\u001b[43m(\u001b[49m\u001b[43mst\u001b[49m\u001b[43m,\u001b[49m\u001b[43m \u001b[49m\u001b[43mU_seq\u001b[49m\u001b[43m[\u001b[49m\u001b[43mt\u001b[49m\u001b[43m]\u001b[49m\u001b[43m)\u001b[49m\n\u001b[1;32m    135\u001b[0m     \u001b[38;5;28;01mif\u001b[39;00m collect_features: Phi[t] \u001b[38;5;241m=\u001b[39m \u001b[38;5;28mself\u001b[39m\u001b[38;5;241m.\u001b[39mfeatures_Z(st)\n\u001b[1;32m    136\u001b[0m \u001b[38;5;28;01mreturn\u001b[39;00m st, Phi\n",
      "File \u001b[0;32m~/postbacc/research/quantum-perceptron-robustness/code/qrc-robustness/src/tfim.py:122\u001b[0m, in \u001b[0;36mTFIMReservoir.step\u001b[0;34m(self, state, u_t)\u001b[0m\n\u001b[1;32m    120\u001b[0m Ht \u001b[38;5;241m=\u001b[39m \u001b[38;5;28mself\u001b[39m\u001b[38;5;241m.\u001b[39mH_res \u001b[38;5;241m+\u001b[39m \u001b[38;5;28mself\u001b[39m\u001b[38;5;241m.\u001b[39mH_in(u_t)\n\u001b[1;32m    121\u001b[0m \u001b[38;5;28;01mif\u001b[39;00m \u001b[38;5;28mlen\u001b[39m(\u001b[38;5;28mself\u001b[39m\u001b[38;5;241m.\u001b[39mc_ops) \u001b[38;5;241m==\u001b[39m \u001b[38;5;241m0\u001b[39m:  \u001b[38;5;66;03m# unitary\u001b[39;00m\n\u001b[0;32m--> 122\u001b[0m     U_dt \u001b[38;5;241m=\u001b[39m \u001b[43mpropagator\u001b[49m\u001b[43m(\u001b[49m\u001b[43mHt\u001b[49m\u001b[43m,\u001b[49m\u001b[43m \u001b[49m\u001b[38;5;28;43mself\u001b[39;49m\u001b[38;5;241;43m.\u001b[39;49m\u001b[43mdt\u001b[49m\u001b[43m)\u001b[49m\n\u001b[1;32m    123\u001b[0m     \u001b[38;5;28;01mreturn\u001b[39;00m U_dt \u001b[38;5;241m*\u001b[39m state\n\u001b[1;32m    124\u001b[0m rho0 \u001b[38;5;241m=\u001b[39m state \u001b[38;5;28;01mif\u001b[39;00m state\u001b[38;5;241m.\u001b[39misoper \u001b[38;5;28;01melse\u001b[39;00m ket2dm(state)  \u001b[38;5;66;03m# Lindblad\u001b[39;00m\n",
      "File \u001b[0;32m~/postbacc/research/quantum-perceptron-robustness/code/qrc-robustness/venv/lib/python3.8/site-packages/qutip/propagator.py:148\u001b[0m, in \u001b[0;36mpropagator\u001b[0;34m(H, t, c_op_list, args, options, unitary_mode, parallel, progress_bar, _safe_mode, **kwargs)\u001b[0m\n\u001b[1;32m    146\u001b[0m     H2 \u001b[38;5;241m=\u001b[39m tensor(qeye(N), H)\n\u001b[1;32m    147\u001b[0m options\u001b[38;5;241m.\u001b[39mnormalize_output \u001b[38;5;241m=\u001b[39m \u001b[38;5;28;01mFalse\u001b[39;00m\n\u001b[0;32m--> 148\u001b[0m output \u001b[38;5;241m=\u001b[39m \u001b[43msesolve\u001b[49m\u001b[43m(\u001b[49m\u001b[43mH2\u001b[49m\u001b[43m,\u001b[49m\u001b[43m \u001b[49m\u001b[43mpsi0\u001b[49m\u001b[43m,\u001b[49m\u001b[43m \u001b[49m\u001b[43mtlist\u001b[49m\u001b[43m,\u001b[49m\u001b[43m \u001b[49m\u001b[43m[\u001b[49m\u001b[43m]\u001b[49m\u001b[43m,\u001b[49m\n\u001b[1;32m    149\u001b[0m \u001b[43m                 \u001b[49m\u001b[43margs\u001b[49m\u001b[38;5;241;43m=\u001b[39;49m\u001b[43margs\u001b[49m\u001b[43m,\u001b[49m\u001b[43m \u001b[49m\u001b[43moptions\u001b[49m\u001b[38;5;241;43m=\u001b[39;49m\u001b[43moptions\u001b[49m\u001b[43m,\u001b[49m\n\u001b[1;32m    150\u001b[0m \u001b[43m                 \u001b[49m\u001b[43m_safe_mode\u001b[49m\u001b[38;5;241;43m=\u001b[39;49m\u001b[38;5;28;43;01mFalse\u001b[39;49;00m\u001b[43m)\u001b[49m\n\u001b[1;32m    151\u001b[0m \u001b[38;5;28;01mfor\u001b[39;00m k, t \u001b[38;5;129;01min\u001b[39;00m \u001b[38;5;28menumerate\u001b[39m(tlist):\n\u001b[1;32m    152\u001b[0m     u[k] \u001b[38;5;241m=\u001b[39m sp_reshape(output\u001b[38;5;241m.\u001b[39mstates[k]\u001b[38;5;241m.\u001b[39mdata, (N, N))\n",
      "File \u001b[0;32m~/postbacc/research/quantum-perceptron-robustness/code/qrc-robustness/venv/lib/python3.8/site-packages/qutip/sesolve.py:136\u001b[0m, in \u001b[0;36msesolve\u001b[0;34m(H, psi0, tlist, e_ops, args, options, progress_bar, _safe_mode)\u001b[0m\n\u001b[1;32m    133\u001b[0m     v \u001b[38;5;241m=\u001b[39m psi0\u001b[38;5;241m.\u001b[39mfull()\u001b[38;5;241m.\u001b[39mravel(\u001b[38;5;124m'\u001b[39m\u001b[38;5;124mF\u001b[39m\u001b[38;5;124m'\u001b[39m)\n\u001b[1;32m    134\u001b[0m     func(\u001b[38;5;241m0.\u001b[39m, v, \u001b[38;5;241m*\u001b[39mode_args) \u001b[38;5;241m+\u001b[39m v\n\u001b[0;32m--> 136\u001b[0m res \u001b[38;5;241m=\u001b[39m \u001b[43m_generic_ode_solve\u001b[49m\u001b[43m(\u001b[49m\u001b[43mfunc\u001b[49m\u001b[43m,\u001b[49m\u001b[43m \u001b[49m\u001b[43mode_args\u001b[49m\u001b[43m,\u001b[49m\u001b[43m \u001b[49m\u001b[43mpsi0\u001b[49m\u001b[43m,\u001b[49m\u001b[43m \u001b[49m\u001b[43mtlist\u001b[49m\u001b[43m,\u001b[49m\u001b[43m \u001b[49m\u001b[43me_ops\u001b[49m\u001b[43m,\u001b[49m\u001b[43m \u001b[49m\u001b[43moptions\u001b[49m\u001b[43m,\u001b[49m\n\u001b[1;32m    137\u001b[0m \u001b[43m                         \u001b[49m\u001b[43mprogress_bar\u001b[49m\u001b[43m,\u001b[49m\u001b[43m \u001b[49m\u001b[43mdims\u001b[49m\u001b[38;5;241;43m=\u001b[39;49m\u001b[43mpsi0\u001b[49m\u001b[38;5;241;43m.\u001b[39;49m\u001b[43mdims\u001b[49m\u001b[43m)\u001b[49m\n\u001b[1;32m    138\u001b[0m \u001b[38;5;28;01mif\u001b[39;00m e_ops_dict:\n\u001b[1;32m    139\u001b[0m     res\u001b[38;5;241m.\u001b[39mexpect \u001b[38;5;241m=\u001b[39m {e: res\u001b[38;5;241m.\u001b[39mexpect[n]\n\u001b[1;32m    140\u001b[0m                   \u001b[38;5;28;01mfor\u001b[39;00m n, e \u001b[38;5;129;01min\u001b[39;00m \u001b[38;5;28menumerate\u001b[39m(e_ops_dict\u001b[38;5;241m.\u001b[39mkeys())}\n",
      "File \u001b[0;32m~/postbacc/research/quantum-perceptron-robustness/code/qrc-robustness/venv/lib/python3.8/site-packages/qutip/sesolve.py:381\u001b[0m, in \u001b[0;36m_generic_ode_solve\u001b[0;34m(func, ode_args, psi0, tlist, e_ops, opt, progress_bar, dims)\u001b[0m\n\u001b[1;32m    377\u001b[0m             output\u001b[38;5;241m.\u001b[39mexpect[m][t_idx] \u001b[38;5;241m=\u001b[39m cy_expect_psi(e_ops_data[m], cdata,\n\u001b[1;32m    378\u001b[0m                                                     e_ops[m]\u001b[38;5;241m.\u001b[39misherm)\n\u001b[1;32m    380\u001b[0m     \u001b[38;5;28;01mif\u001b[39;00m t_idx \u001b[38;5;241m<\u001b[39m n_tsteps \u001b[38;5;241m-\u001b[39m \u001b[38;5;241m1\u001b[39m:\n\u001b[0;32m--> 381\u001b[0m         \u001b[43mr\u001b[49m\u001b[38;5;241;43m.\u001b[39;49m\u001b[43mintegrate\u001b[49m\u001b[43m(\u001b[49m\u001b[43mr\u001b[49m\u001b[38;5;241;43m.\u001b[39;49m\u001b[43mt\u001b[49m\u001b[43m \u001b[49m\u001b[38;5;241;43m+\u001b[39;49m\u001b[43m \u001b[49m\u001b[43mdt\u001b[49m\u001b[43m[\u001b[49m\u001b[43mt_idx\u001b[49m\u001b[43m]\u001b[49m\u001b[43m)\u001b[49m\n\u001b[1;32m    383\u001b[0m progress_bar\u001b[38;5;241m.\u001b[39mfinished()\n\u001b[1;32m    385\u001b[0m \u001b[38;5;28;01mif\u001b[39;00m opt\u001b[38;5;241m.\u001b[39mstore_final_state:\n",
      "File \u001b[0;32m~/postbacc/research/quantum-perceptron-robustness/code/qrc-robustness/venv/lib/python3.8/site-packages/scipy/integrate/_ode.py:431\u001b[0m, in \u001b[0;36mode.integrate\u001b[0;34m(self, t, step, relax)\u001b[0m\n\u001b[1;32m    428\u001b[0m     mth \u001b[38;5;241m=\u001b[39m \u001b[38;5;28mself\u001b[39m\u001b[38;5;241m.\u001b[39m_integrator\u001b[38;5;241m.\u001b[39mrun\n\u001b[1;32m    430\u001b[0m \u001b[38;5;28;01mtry\u001b[39;00m:\n\u001b[0;32m--> 431\u001b[0m     \u001b[38;5;28mself\u001b[39m\u001b[38;5;241m.\u001b[39m_y, \u001b[38;5;28mself\u001b[39m\u001b[38;5;241m.\u001b[39mt \u001b[38;5;241m=\u001b[39m \u001b[43mmth\u001b[49m\u001b[43m(\u001b[49m\u001b[38;5;28;43mself\u001b[39;49m\u001b[38;5;241;43m.\u001b[39;49m\u001b[43mf\u001b[49m\u001b[43m,\u001b[49m\u001b[43m \u001b[49m\u001b[38;5;28;43mself\u001b[39;49m\u001b[38;5;241;43m.\u001b[39;49m\u001b[43mjac\u001b[49m\u001b[43m \u001b[49m\u001b[38;5;129;43;01mor\u001b[39;49;00m\u001b[43m \u001b[49m\u001b[43m(\u001b[49m\u001b[38;5;28;43;01mlambda\u001b[39;49;00m\u001b[43m:\u001b[49m\u001b[43m \u001b[49m\u001b[38;5;28;43;01mNone\u001b[39;49;00m\u001b[43m)\u001b[49m\u001b[43m,\u001b[49m\n\u001b[1;32m    432\u001b[0m \u001b[43m                          \u001b[49m\u001b[38;5;28;43mself\u001b[39;49m\u001b[38;5;241;43m.\u001b[39;49m\u001b[43m_y\u001b[49m\u001b[43m,\u001b[49m\u001b[43m \u001b[49m\u001b[38;5;28;43mself\u001b[39;49m\u001b[38;5;241;43m.\u001b[39;49m\u001b[43mt\u001b[49m\u001b[43m,\u001b[49m\u001b[43m \u001b[49m\u001b[43mt\u001b[49m\u001b[43m,\u001b[49m\n\u001b[1;32m    433\u001b[0m \u001b[43m                          \u001b[49m\u001b[38;5;28;43mself\u001b[39;49m\u001b[38;5;241;43m.\u001b[39;49m\u001b[43mf_params\u001b[49m\u001b[43m,\u001b[49m\u001b[43m \u001b[49m\u001b[38;5;28;43mself\u001b[39;49m\u001b[38;5;241;43m.\u001b[39;49m\u001b[43mjac_params\u001b[49m\u001b[43m)\u001b[49m\n\u001b[1;32m    434\u001b[0m \u001b[38;5;28;01mexcept\u001b[39;00m \u001b[38;5;167;01mSystemError\u001b[39;00m \u001b[38;5;28;01mas\u001b[39;00m e:\n\u001b[1;32m    435\u001b[0m     \u001b[38;5;66;03m# f2py issue with tuple returns, see ticket 1187.\u001b[39;00m\n\u001b[1;32m    436\u001b[0m     \u001b[38;5;28;01mraise\u001b[39;00m \u001b[38;5;167;01mValueError\u001b[39;00m(\n\u001b[1;32m    437\u001b[0m         \u001b[38;5;124m'\u001b[39m\u001b[38;5;124mFunction to integrate must not return a tuple.\u001b[39m\u001b[38;5;124m'\u001b[39m\n\u001b[1;32m    438\u001b[0m     ) \u001b[38;5;28;01mfrom\u001b[39;00m\u001b[38;5;250m \u001b[39m\u001b[38;5;21;01me\u001b[39;00m\n",
      "File \u001b[0;32m~/postbacc/research/quantum-perceptron-robustness/code/qrc-robustness/venv/lib/python3.8/site-packages/scipy/integrate/_ode.py:1007\u001b[0m, in \u001b[0;36mvode.run\u001b[0;34m(self, f, jac, y0, t0, t1, f_params, jac_params)\u001b[0m\n\u001b[1;32m   1003\u001b[0m     jac \u001b[38;5;241m=\u001b[39m _vode_banded_jac_wrapper(jac, \u001b[38;5;28mself\u001b[39m\u001b[38;5;241m.\u001b[39mml, jac_params)\n\u001b[1;32m   1005\u001b[0m args \u001b[38;5;241m=\u001b[39m ((f, jac, y0, t0, t1) \u001b[38;5;241m+\u001b[39m \u001b[38;5;28mtuple\u001b[39m(\u001b[38;5;28mself\u001b[39m\u001b[38;5;241m.\u001b[39mcall_args) \u001b[38;5;241m+\u001b[39m\n\u001b[1;32m   1006\u001b[0m         (f_params, jac_params))\n\u001b[0;32m-> 1007\u001b[0m y1, t, istate \u001b[38;5;241m=\u001b[39m \u001b[38;5;28;43mself\u001b[39;49m\u001b[38;5;241;43m.\u001b[39;49m\u001b[43mrunner\u001b[49m\u001b[43m(\u001b[49m\u001b[38;5;241;43m*\u001b[39;49m\u001b[43margs\u001b[49m\u001b[43m)\u001b[49m\n\u001b[1;32m   1008\u001b[0m \u001b[38;5;28mself\u001b[39m\u001b[38;5;241m.\u001b[39mistate \u001b[38;5;241m=\u001b[39m istate\n\u001b[1;32m   1009\u001b[0m \u001b[38;5;28;01mif\u001b[39;00m istate \u001b[38;5;241m<\u001b[39m \u001b[38;5;241m0\u001b[39m:\n",
      "\u001b[0;31mKeyboardInterrupt\u001b[0m: "
     ]
    }
   ],
   "source": [
    "def ridge_fit(X, Y, lam=1e-2):\n",
    "    # X:(N,D), Y:(N,K) → W:(D+1,K) with bias\n",
    "    Xb = np.hstack([X, np.ones((X.shape[0],1))])\n",
    "    A  = Xb.T @ Xb + lam*np.eye(Xb.shape[1])\n",
    "    return np.linalg.solve(A, Xb.T @ Y)\n",
    "\n",
    "def run_encode_constant(res, U_in, T=60, verbose=True):\n",
    "    # U_in: (N_samples, M). For each sample, hold u constant for T steps.\n",
    "    X = []\n",
    "    N_samples = U_in.shape[0]\n",
    "    for idx, u in enumerate(U_in):\n",
    "        U_seq = np.tile(u, (T,1))\n",
    "        _, Phi = res.evolve(U_seq, collect_features=True)\n",
    "        X.append(Phi[-1])  # last-time features (N,)\n",
    "        # Progress print\n",
    "        if verbose and (idx+1) % 10 == 0:  # every 100 samples\n",
    "            print(f\"  Encoded {idx+1}/{N_samples} samples\")\n",
    "    return np.stack(X, axis=0)  # (N_samples, N_qubits)\n",
    "\n",
    "# Build data\n",
    "print(\"Generating training and test data...\")\n",
    "Ctr_in, Ctr_out, Cte_in, Cte_out = make_dataset_cnot(n_train=1000, n_test=200, seed=3)\n",
    "print(f\"Train samples: {Ctr_in.shape[0]}, Test samples: {Cte_in.shape[0]}\")\n",
    "\n",
    "# Encode inputs, get reservoir features\n",
    "T_steps = 60\n",
    "print(f\"\\nEncoding training inputs for {T_steps} steps...\")\n",
    "Xtr = run_encode_constant(res, Ctr_in, T=T_steps)   # (Ntr, Nq)\n",
    "print(\"  Done. Training features shape:\", Xtr.shape)\n",
    "\n",
    "print(f\"Encoding test inputs for {T_steps} steps...\")\n",
    "Xte = run_encode_constant(res, Cte_in, T=T_steps)   # (Nte, Nq)\n",
    "print(\"  Done. Test features shape:\", Xte.shape)\n",
    "\n",
    "# Fit linear readout to map features → 15 targets\n",
    "print(\"\\nFitting ridge regression readout...\")\n",
    "W = ridge_fit(Xtr, Ctr_out, lam=5e-2)               # (Nq+1, 15)\n",
    "print(\"  Done. Readout weight matrix shape:\", W.shape)\n",
    "\n",
    "# Predict on test\n",
    "print(\"\\nPredicting on test set...\")\n",
    "Xte_b = np.hstack([Xte, np.ones((Xte.shape[0],1))])\n",
    "Cte_pred = Xte_b @ W                                 # (Nte, 15)\n",
    "rmse = float(np.sqrt(np.mean((Cte_pred - Cte_out)**2)))\n",
    "print(f\"Test RMSE on 15 expectations = {rmse:.4f}\")"
   ]
  }
 ],
 "metadata": {
  "kernelspec": {
   "display_name": "venv",
   "language": "python",
   "name": "python3"
  },
  "language_info": {
   "codemirror_mode": {
    "name": "ipython",
    "version": 3
   },
   "file_extension": ".py",
   "mimetype": "text/x-python",
   "name": "python",
   "nbconvert_exporter": "python",
   "pygments_lexer": "ipython3",
   "version": "3.8.2"
  }
 },
 "nbformat": 4,
 "nbformat_minor": 5
}
